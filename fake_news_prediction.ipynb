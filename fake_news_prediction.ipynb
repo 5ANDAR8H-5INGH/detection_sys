{
 "cells": [
  {
   "cell_type": "code",
   "execution_count": null,
   "id": "e4ef6451",
   "metadata": {},
   "outputs": [],
   "source": [
    "import pandas as pd\n",
    "import numpy as np\n",
    "import re           #useful for searching words in a text or documents\n",
    "from nltk.corpus import stopwords # words that don't add much value to the text or data like was were is am etc\n",
    "from nltk.stem.porter import PorterStemmer  # nltk = natural language tool kit used for stemming process\n",
    "from sklearn.feature_extraction.text import TfidfVectorizer # used to convert text into feature vectors\n",
    "from sklearn.model_selection import train_test_split # used to train data by splitting\n",
    "from sklearn.linear_model import LogisticRegression\n",
    "from sklearn.metrics import accuracy_score\n"
   ]
  },
  {
   "cell_type": "code",
   "execution_count": 3,
   "id": "a12aa8b2",
   "metadata": {},
   "outputs": [
    {
     "name": "stderr",
     "output_type": "stream",
     "text": [
      "[nltk_data] Downloading package stopwords to\n",
      "[nltk_data]     C:\\Users\\sanda\\AppData\\Roaming\\nltk_data...\n",
      "[nltk_data]   Unzipping corpora\\stopwords.zip.\n"
     ]
    },
    {
     "data": {
      "text/plain": [
       "True"
      ]
     },
     "execution_count": 3,
     "metadata": {},
     "output_type": "execute_result"
    }
   ],
   "source": [
    "import nltk\n",
    "nltk.download('stopwords')"
   ]
  },
  {
   "cell_type": "code",
   "execution_count": 4,
   "id": "6db85eb0",
   "metadata": {},
   "outputs": [
    {
     "name": "stdout",
     "output_type": "stream",
     "text": [
      "['a', 'about', 'above', 'after', 'again', 'against', 'ain', 'all', 'am', 'an', 'and', 'any', 'are', 'aren', \"aren't\", 'as', 'at', 'be', 'because', 'been', 'before', 'being', 'below', 'between', 'both', 'but', 'by', 'can', 'couldn', \"couldn't\", 'd', 'did', 'didn', \"didn't\", 'do', 'does', 'doesn', \"doesn't\", 'doing', 'don', \"don't\", 'down', 'during', 'each', 'few', 'for', 'from', 'further', 'had', 'hadn', \"hadn't\", 'has', 'hasn', \"hasn't\", 'have', 'haven', \"haven't\", 'having', 'he', \"he'd\", \"he'll\", 'her', 'here', 'hers', 'herself', \"he's\", 'him', 'himself', 'his', 'how', 'i', \"i'd\", 'if', \"i'll\", \"i'm\", 'in', 'into', 'is', 'isn', \"isn't\", 'it', \"it'd\", \"it'll\", \"it's\", 'its', 'itself', \"i've\", 'just', 'll', 'm', 'ma', 'me', 'mightn', \"mightn't\", 'more', 'most', 'mustn', \"mustn't\", 'my', 'myself', 'needn', \"needn't\", 'no', 'nor', 'not', 'now', 'o', 'of', 'off', 'on', 'once', 'only', 'or', 'other', 'our', 'ours', 'ourselves', 'out', 'over', 'own', 're', 's', 'same', 'shan', \"shan't\", 'she', \"she'd\", \"she'll\", \"she's\", 'should', 'shouldn', \"shouldn't\", \"should've\", 'so', 'some', 'such', 't', 'than', 'that', \"that'll\", 'the', 'their', 'theirs', 'them', 'themselves', 'then', 'there', 'these', 'they', \"they'd\", \"they'll\", \"they're\", \"they've\", 'this', 'those', 'through', 'to', 'too', 'under', 'until', 'up', 've', 'very', 'was', 'wasn', \"wasn't\", 'we', \"we'd\", \"we'll\", \"we're\", 'were', 'weren', \"weren't\", \"we've\", 'what', 'when', 'where', 'which', 'while', 'who', 'whom', 'why', 'will', 'with', 'won', \"won't\", 'wouldn', \"wouldn't\", 'y', 'you', \"you'd\", \"you'll\", 'your', \"you're\", 'yours', 'yourself', 'yourselves', \"you've\"]\n"
     ]
    }
   ],
   "source": [
    "print(stopwords.words('english'))"
   ]
  },
  {
   "cell_type": "markdown",
   "id": "94115b2a",
   "metadata": {},
   "source": [
    "## Data pre-processing"
   ]
  },
  {
   "cell_type": "code",
   "execution_count": 5,
   "id": "16be9b6e",
   "metadata": {},
   "outputs": [],
   "source": [
    "df = pd.read_csv('fake_news_dataset.csv')"
   ]
  },
  {
   "cell_type": "code",
   "execution_count": 6,
   "id": "82978268",
   "metadata": {},
   "outputs": [
    {
     "data": {
      "text/html": [
       "<div>\n",
       "<style scoped>\n",
       "    .dataframe tbody tr th:only-of-type {\n",
       "        vertical-align: middle;\n",
       "    }\n",
       "\n",
       "    .dataframe tbody tr th {\n",
       "        vertical-align: top;\n",
       "    }\n",
       "\n",
       "    .dataframe thead th {\n",
       "        text-align: right;\n",
       "    }\n",
       "</style>\n",
       "<table border=\"1\" class=\"dataframe\">\n",
       "  <thead>\n",
       "    <tr style=\"text-align: right;\">\n",
       "      <th></th>\n",
       "      <th>title</th>\n",
       "      <th>text</th>\n",
       "      <th>date</th>\n",
       "      <th>source</th>\n",
       "      <th>author</th>\n",
       "      <th>category</th>\n",
       "      <th>label</th>\n",
       "    </tr>\n",
       "  </thead>\n",
       "  <tbody>\n",
       "    <tr>\n",
       "      <th>0</th>\n",
       "      <td>Foreign Democrat final.</td>\n",
       "      <td>more tax development both store agreement lawy...</td>\n",
       "      <td>2023-03-10</td>\n",
       "      <td>NY Times</td>\n",
       "      <td>Paula George</td>\n",
       "      <td>Politics</td>\n",
       "      <td>real</td>\n",
       "    </tr>\n",
       "    <tr>\n",
       "      <th>1</th>\n",
       "      <td>To offer down resource great point.</td>\n",
       "      <td>probably guess western behind likely next inve...</td>\n",
       "      <td>2022-05-25</td>\n",
       "      <td>Fox News</td>\n",
       "      <td>Joseph Hill</td>\n",
       "      <td>Politics</td>\n",
       "      <td>fake</td>\n",
       "    </tr>\n",
       "    <tr>\n",
       "      <th>2</th>\n",
       "      <td>Himself church myself carry.</td>\n",
       "      <td>them identify forward present success risk sev...</td>\n",
       "      <td>2022-09-01</td>\n",
       "      <td>CNN</td>\n",
       "      <td>Julia Robinson</td>\n",
       "      <td>Business</td>\n",
       "      <td>fake</td>\n",
       "    </tr>\n",
       "    <tr>\n",
       "      <th>3</th>\n",
       "      <td>You unit its should.</td>\n",
       "      <td>phone which item yard Republican safe where po...</td>\n",
       "      <td>2023-02-07</td>\n",
       "      <td>Reuters</td>\n",
       "      <td>Mr. David Foster DDS</td>\n",
       "      <td>Science</td>\n",
       "      <td>fake</td>\n",
       "    </tr>\n",
       "    <tr>\n",
       "      <th>4</th>\n",
       "      <td>Billion believe employee summer how.</td>\n",
       "      <td>wonder myself fact difficult course forget exa...</td>\n",
       "      <td>2023-04-03</td>\n",
       "      <td>CNN</td>\n",
       "      <td>Austin Walker</td>\n",
       "      <td>Technology</td>\n",
       "      <td>fake</td>\n",
       "    </tr>\n",
       "  </tbody>\n",
       "</table>\n",
       "</div>"
      ],
      "text/plain": [
       "                                  title  \\\n",
       "0               Foreign Democrat final.   \n",
       "1   To offer down resource great point.   \n",
       "2          Himself church myself carry.   \n",
       "3                  You unit its should.   \n",
       "4  Billion believe employee summer how.   \n",
       "\n",
       "                                                text        date    source  \\\n",
       "0  more tax development both store agreement lawy...  2023-03-10  NY Times   \n",
       "1  probably guess western behind likely next inve...  2022-05-25  Fox News   \n",
       "2  them identify forward present success risk sev...  2022-09-01       CNN   \n",
       "3  phone which item yard Republican safe where po...  2023-02-07   Reuters   \n",
       "4  wonder myself fact difficult course forget exa...  2023-04-03       CNN   \n",
       "\n",
       "                 author    category label  \n",
       "0          Paula George    Politics  real  \n",
       "1           Joseph Hill    Politics  fake  \n",
       "2        Julia Robinson    Business  fake  \n",
       "3  Mr. David Foster DDS     Science  fake  \n",
       "4         Austin Walker  Technology  fake  "
      ]
     },
     "execution_count": 6,
     "metadata": {},
     "output_type": "execute_result"
    }
   ],
   "source": [
    "df.head()"
   ]
  },
  {
   "cell_type": "code",
   "execution_count": 7,
   "id": "637e222c",
   "metadata": {},
   "outputs": [
    {
     "data": {
      "text/plain": [
       "(20000, 7)"
      ]
     },
     "execution_count": 7,
     "metadata": {},
     "output_type": "execute_result"
    }
   ],
   "source": [
    "df.shape"
   ]
  },
  {
   "cell_type": "code",
   "execution_count": 9,
   "id": "f09786d8",
   "metadata": {},
   "outputs": [],
   "source": [
    "df['label'] = df['label'].map({'real':0,'fake':1})"
   ]
  },
  {
   "cell_type": "code",
   "execution_count": 10,
   "id": "f2562f86",
   "metadata": {},
   "outputs": [
    {
     "data": {
      "text/html": [
       "<div>\n",
       "<style scoped>\n",
       "    .dataframe tbody tr th:only-of-type {\n",
       "        vertical-align: middle;\n",
       "    }\n",
       "\n",
       "    .dataframe tbody tr th {\n",
       "        vertical-align: top;\n",
       "    }\n",
       "\n",
       "    .dataframe thead th {\n",
       "        text-align: right;\n",
       "    }\n",
       "</style>\n",
       "<table border=\"1\" class=\"dataframe\">\n",
       "  <thead>\n",
       "    <tr style=\"text-align: right;\">\n",
       "      <th></th>\n",
       "      <th>title</th>\n",
       "      <th>text</th>\n",
       "      <th>date</th>\n",
       "      <th>source</th>\n",
       "      <th>author</th>\n",
       "      <th>category</th>\n",
       "      <th>label</th>\n",
       "    </tr>\n",
       "  </thead>\n",
       "  <tbody>\n",
       "    <tr>\n",
       "      <th>0</th>\n",
       "      <td>Foreign Democrat final.</td>\n",
       "      <td>more tax development both store agreement lawy...</td>\n",
       "      <td>2023-03-10</td>\n",
       "      <td>NY Times</td>\n",
       "      <td>Paula George</td>\n",
       "      <td>Politics</td>\n",
       "      <td>0</td>\n",
       "    </tr>\n",
       "    <tr>\n",
       "      <th>1</th>\n",
       "      <td>To offer down resource great point.</td>\n",
       "      <td>probably guess western behind likely next inve...</td>\n",
       "      <td>2022-05-25</td>\n",
       "      <td>Fox News</td>\n",
       "      <td>Joseph Hill</td>\n",
       "      <td>Politics</td>\n",
       "      <td>1</td>\n",
       "    </tr>\n",
       "    <tr>\n",
       "      <th>2</th>\n",
       "      <td>Himself church myself carry.</td>\n",
       "      <td>them identify forward present success risk sev...</td>\n",
       "      <td>2022-09-01</td>\n",
       "      <td>CNN</td>\n",
       "      <td>Julia Robinson</td>\n",
       "      <td>Business</td>\n",
       "      <td>1</td>\n",
       "    </tr>\n",
       "    <tr>\n",
       "      <th>3</th>\n",
       "      <td>You unit its should.</td>\n",
       "      <td>phone which item yard Republican safe where po...</td>\n",
       "      <td>2023-02-07</td>\n",
       "      <td>Reuters</td>\n",
       "      <td>Mr. David Foster DDS</td>\n",
       "      <td>Science</td>\n",
       "      <td>1</td>\n",
       "    </tr>\n",
       "    <tr>\n",
       "      <th>4</th>\n",
       "      <td>Billion believe employee summer how.</td>\n",
       "      <td>wonder myself fact difficult course forget exa...</td>\n",
       "      <td>2023-04-03</td>\n",
       "      <td>CNN</td>\n",
       "      <td>Austin Walker</td>\n",
       "      <td>Technology</td>\n",
       "      <td>1</td>\n",
       "    </tr>\n",
       "  </tbody>\n",
       "</table>\n",
       "</div>"
      ],
      "text/plain": [
       "                                  title  \\\n",
       "0               Foreign Democrat final.   \n",
       "1   To offer down resource great point.   \n",
       "2          Himself church myself carry.   \n",
       "3                  You unit its should.   \n",
       "4  Billion believe employee summer how.   \n",
       "\n",
       "                                                text        date    source  \\\n",
       "0  more tax development both store agreement lawy...  2023-03-10  NY Times   \n",
       "1  probably guess western behind likely next inve...  2022-05-25  Fox News   \n",
       "2  them identify forward present success risk sev...  2022-09-01       CNN   \n",
       "3  phone which item yard Republican safe where po...  2023-02-07   Reuters   \n",
       "4  wonder myself fact difficult course forget exa...  2023-04-03       CNN   \n",
       "\n",
       "                 author    category  label  \n",
       "0          Paula George    Politics      0  \n",
       "1           Joseph Hill    Politics      1  \n",
       "2        Julia Robinson    Business      1  \n",
       "3  Mr. David Foster DDS     Science      1  \n",
       "4         Austin Walker  Technology      1  "
      ]
     },
     "execution_count": 10,
     "metadata": {},
     "output_type": "execute_result"
    }
   ],
   "source": [
    "df.head()"
   ]
  },
  {
   "cell_type": "code",
   "execution_count": 11,
   "id": "835c9bd2",
   "metadata": {},
   "outputs": [
    {
     "data": {
      "text/plain": [
       "title          0\n",
       "text           0\n",
       "date           0\n",
       "source      1000\n",
       "author      1000\n",
       "category       0\n",
       "label          0\n",
       "dtype: int64"
      ]
     },
     "execution_count": 11,
     "metadata": {},
     "output_type": "execute_result"
    }
   ],
   "source": [
    "df.isnull().sum()"
   ]
  },
  {
   "cell_type": "code",
   "execution_count": 12,
   "id": "ea3f2c24",
   "metadata": {},
   "outputs": [],
   "source": [
    "df = df.fillna('') # replacing null value with empty string"
   ]
  },
  {
   "cell_type": "code",
   "execution_count": null,
   "id": "42253aec",
   "metadata": {},
   "outputs": [],
   "source": [
    "df['content'] = df['author']+' '+df['title'] # merging the two column"
   ]
  },
  {
   "cell_type": "code",
   "execution_count": 14,
   "id": "10982501",
   "metadata": {},
   "outputs": [
    {
     "name": "stdout",
     "output_type": "stream",
     "text": [
      "0                     Paula George Foreign Democrat final.\n",
      "1          Joseph Hill To offer down resource great point.\n",
      "2              Julia Robinson Himself church myself carry.\n",
      "3                Mr. David Foster DDS You unit its should.\n",
      "4        Austin Walker Billion believe employee summer ...\n",
      "                               ...                        \n",
      "19995                         Gary Miles House party born.\n",
      "19996    Maria Mcbride Though nation people maybe price...\n",
      "19997     Kristen Franklin Yet exist with experience unit.\n",
      "19998                  David Wise School wide itself item.\n",
      "19999        James Peterson Offer chair cover senior born.\n",
      "Name: content, Length: 20000, dtype: object\n"
     ]
    }
   ],
   "source": [
    "print(df['content'])"
   ]
  },
  {
   "cell_type": "code",
   "execution_count": 17,
   "id": "93e633cd",
   "metadata": {},
   "outputs": [],
   "source": [
    "df = df.drop(['date','source','category'],axis=1)"
   ]
  },
  {
   "cell_type": "code",
   "execution_count": 19,
   "id": "bffccc45",
   "metadata": {},
   "outputs": [
    {
     "name": "stdout",
     "output_type": "stream",
     "text": [
      "                                       title  \\\n",
      "0                    Foreign Democrat final.   \n",
      "1        To offer down resource great point.   \n",
      "2               Himself church myself carry.   \n",
      "3                       You unit its should.   \n",
      "4       Billion believe employee summer how.   \n",
      "...                                      ...   \n",
      "19995                      House party born.   \n",
      "19996  Though nation people maybe price box.   \n",
      "19997        Yet exist with experience unit.   \n",
      "19998               School wide itself item.   \n",
      "19999         Offer chair cover senior born.   \n",
      "\n",
      "                                                    text  \\\n",
      "0      more tax development both store agreement lawy...   \n",
      "1      probably guess western behind likely next inve...   \n",
      "2      them identify forward present success risk sev...   \n",
      "3      phone which item yard Republican safe where po...   \n",
      "4      wonder myself fact difficult course forget exa...   \n",
      "...                                                  ...   \n",
      "19995  hit and television I change very our happy doo...   \n",
      "19996  fear most meet rock even sea value design stan...   \n",
      "19997  activity loss very provide eye west create wha...   \n",
      "19998  term point general common training watch respo...   \n",
      "19999  remain pressure glass me six senior though nor...   \n",
      "\n",
      "                     author                                            content  \n",
      "0              Paula George               Paula George Foreign Democrat final.  \n",
      "1               Joseph Hill    Joseph Hill To offer down resource great point.  \n",
      "2            Julia Robinson        Julia Robinson Himself church myself carry.  \n",
      "3      Mr. David Foster DDS          Mr. David Foster DDS You unit its should.  \n",
      "4             Austin Walker  Austin Walker Billion believe employee summer ...  \n",
      "...                     ...                                                ...  \n",
      "19995            Gary Miles                       Gary Miles House party born.  \n",
      "19996         Maria Mcbride  Maria Mcbride Though nation people maybe price...  \n",
      "19997      Kristen Franklin   Kristen Franklin Yet exist with experience unit.  \n",
      "19998            David Wise                David Wise School wide itself item.  \n",
      "19999        James Peterson      James Peterson Offer chair cover senior born.  \n",
      "\n",
      "[20000 rows x 4 columns]\n",
      "0        0\n",
      "1        1\n",
      "2        1\n",
      "3        1\n",
      "4        1\n",
      "        ..\n",
      "19995    1\n",
      "19996    0\n",
      "19997    0\n",
      "19998    1\n",
      "19999    1\n",
      "Name: label, Length: 20000, dtype: int64\n"
     ]
    }
   ],
   "source": [
    "# seperating data and label\n",
    "x = df.drop(columns='label',axis=1)\n",
    "y = df['label']\n",
    "print(x)\n",
    "print(y)"
   ]
  },
  {
   "cell_type": "code",
   "execution_count": 20,
   "id": "87969c0b",
   "metadata": {},
   "outputs": [
    {
     "data": {
      "text/plain": [
       "(20000, 4)"
      ]
     },
     "execution_count": 20,
     "metadata": {},
     "output_type": "execute_result"
    }
   ],
   "source": [
    "x.shape"
   ]
  },
  {
   "cell_type": "code",
   "execution_count": 21,
   "id": "ae45cde2",
   "metadata": {},
   "outputs": [
    {
     "data": {
      "text/plain": [
       "title      0\n",
       "text       0\n",
       "author     0\n",
       "content    0\n",
       "dtype: int64"
      ]
     },
     "execution_count": 21,
     "metadata": {},
     "output_type": "execute_result"
    }
   ],
   "source": [
    "x.isnull().sum()"
   ]
  },
  {
   "cell_type": "markdown",
   "id": "d4c03b34",
   "metadata": {},
   "source": [
    "Stemming :\n",
    "It is the process of reducing a word to its Root word\n",
    "Eg : Actor, Actress,acting -> act"
   ]
  },
  {
   "cell_type": "code",
   "execution_count": null,
   "id": "50e4fe22",
   "metadata": {},
   "outputs": [],
   "source": []
  }
 ],
 "metadata": {
  "kernelspec": {
   "display_name": "base",
   "language": "python",
   "name": "python3"
  },
  "language_info": {
   "codemirror_mode": {
    "name": "ipython",
    "version": 3
   },
   "file_extension": ".py",
   "mimetype": "text/x-python",
   "name": "python",
   "nbconvert_exporter": "python",
   "pygments_lexer": "ipython3",
   "version": "3.12.7"
  }
 },
 "nbformat": 4,
 "nbformat_minor": 5
}
